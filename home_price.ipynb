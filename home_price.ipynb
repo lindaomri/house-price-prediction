{
 "cells": [
  {
   "cell_type": "code",
   "execution_count": 19,
   "id": "0746620f-146f-423c-a0ad-f092cc86bd00",
   "metadata": {},
   "outputs": [],
   "source": [
    "import pandas as pd\n",
    "from sklearn.linear_model import LinearRegression\n"
   ]
  },
  {
   "cell_type": "code",
   "execution_count": 20,
   "id": "87e7cd95-fb70-4b5e-a923-8ba59fbd53a2",
   "metadata": {},
   "outputs": [
    {
     "name": "stdout",
     "output_type": "stream",
     "text": [
      "Voici les prédictions :\n",
      "      GrLivArea  BedroomAbvGr  FullBath  HalfBath  PredictedSalePrice\n",
      "0           896             2         1         0       119523.739163\n",
      "1          1329             3         1         1       142059.630497\n",
      "2          1629             3         2         1       204907.547697\n",
      "3          1604             3         2         1       202201.953228\n",
      "4          1280             2         2         0       191462.453776\n",
      "...         ...           ...       ...       ...                 ...\n",
      "1454       1092             3         1         1       116410.594937\n",
      "1455       1092             3         1         1       116410.594937\n",
      "1456       1224             4         1         0        99197.888710\n",
      "1457        970             3         1         0        99620.673851\n",
      "1458       2000             3         2         1       245058.569607\n",
      "\n",
      "[1459 rows x 5 columns]\n"
     ]
    }
   ],
   "source": [
    "train_df=pd.read_csv(r\"C:\\Users\\user\\Desktop\\house price prediction\\data\\train.csv\")\n",
    "test_df=pd.read_csv(r\"C:\\Users\\user\\Desktop\\house price prediction\\data\\test.csv\")\n",
    "x_train=train_df[['GrLivArea','BedroomAbvGr','FullBath','HalfBath']]\n",
    "y_train=train_df[['SalePrice']]\n",
    "x_test=test_df[['GrLivArea','BedroomAbvGr','FullBath','HalfBath']]\n",
    "model = LinearRegression()\n",
    "model.fit(x_train,y_train)\n",
    "predictions = model.predict(x_test)\n",
    "test_df['PredictedSalePrice'] = predictions\n",
    "print(\"Voici les prédictions :\")\n",
    "print(test_df[['GrLivArea', 'BedroomAbvGr', 'FullBath', 'HalfBath', 'PredictedSalePrice']])\n",
    "\n",
    "\n",
    "\n"
   ]
  },
  {
   "cell_type": "code",
   "execution_count": 21,
   "id": "7bc7e1f2-6c8d-48ac-9c0f-5329e387bc8f",
   "metadata": {},
   "outputs": [
    {
     "name": "stdout",
     "output_type": "stream",
     "text": [
      "Predictions saved to new_predictions.csv\n"
     ]
    }
   ],
   "source": [
    "test_df.to_csv('new_predictions_1.csv', index=False)\n",
    "print(\"Predictions saved to new_predictions.csv\")"
   ]
  },
  {
   "cell_type": "code",
   "execution_count": null,
   "id": "1e46e388-251d-4041-a5c2-2c83d1f1faae",
   "metadata": {},
   "outputs": [],
   "source": []
  }
 ],
 "metadata": {
  "kernelspec": {
   "display_name": "Python 3 (ipykernel)",
   "language": "python",
   "name": "python3"
  },
  "language_info": {
   "codemirror_mode": {
    "name": "ipython",
    "version": 3
   },
   "file_extension": ".py",
   "mimetype": "text/x-python",
   "name": "python",
   "nbconvert_exporter": "python",
   "pygments_lexer": "ipython3",
   "version": "3.11.7"
  }
 },
 "nbformat": 4,
 "nbformat_minor": 5
}
